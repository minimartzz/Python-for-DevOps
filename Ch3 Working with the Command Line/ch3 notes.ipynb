{
 "cells": [
  {
   "cell_type": "markdown",
   "metadata": {},
   "source": [
    "# 3. Working with the Command Line\n",
    "\n",
    "Interacting with the shell environment within Python and creating Python command-line tools are both necessary when doing DevOps work"
   ]
  },
  {
   "cell_type": "markdown",
   "metadata": {},
   "source": [
    "\n",
    "# Working with the Shell\n",
    "\n",
    "Get good with `sys`, `os` and `subprocess` packages."
   ]
  },
  {
   "cell_type": "markdown",
   "metadata": {},
   "source": [
    "## Talking to the Interpreter with the `sys` Module\n",
    "\n",
    "* Offers access to vairables and methods closely tied to the Python interpreter\n",
    "* 2 Dominant ways to interpret bytes during reading:\n",
    "\t1. _little endian_: interpret each subsequent byte with higher significance\n",
    "\t2. _big endian_: assumes the first byte has the highest significance and moves down from there\n"
   ]
  },
  {
   "cell_type": "code",
   "execution_count": 2,
   "metadata": {},
   "outputs": [
    {
     "name": "stdout",
     "output_type": "stream",
     "text": [
      "little\n",
      "28\n",
      "win32\n",
      "All is good\n"
     ]
    }
   ],
   "source": [
    "# See the byte order of current architecture\n",
    "import sys\n",
    "print(sys.byteorder)\n",
    "\n",
    "# See size of the Python objects. Good for dealing with limited memory\n",
    "print(sys.getsizeof(1))\n",
    "\n",
    "# Check current os working on\n",
    "print(sys.platform)\n",
    "\n",
    "# Check the current python version. Good to control different functions for diff versions\n",
    "if sys.version_info.major < 3:\n",
    "    print(\"You need to update your Python\")\n",
    "elif sys.version_info.minor < 7:\n",
    "    print(\"You are not running 3.7 version of Python\")\n",
    "else:\n",
    "    print(\"All is good\")"
   ]
  },
  {
   "cell_type": "markdown",
   "metadata": {},
   "source": [
    "## Dealing with Operating Systems with `os`\n",
    "\n",
    "`os` module contains various attributes and functions that help deal with operating systems. Most common usage is to get settings from the environment variables (e.g setting logging levels, or getting secrets like API keys)"
   ]
  },
  {
   "cell_type": "code",
   "execution_count": null,
   "metadata": {},
   "outputs": [],
   "source": [
    "import os\n",
    "\n",
    "# Get current working directory\n",
    "os.getcwd()\n",
    "\n",
    "# Change current working directory\n",
    "os.chdir(\"/tmp\")\n",
    "\n",
    "# Holds the environment variables that were set when os was loaded\n",
    "os.environ.get(\"LOGLEVEL\")\n",
    "\n",
    "# The setting and environment variable. Setting exists for subprocesses spawned from code\n",
    "os.environ[\"LOGLEVEL\"] = \"DEBUG\"\n",
    "\n",
    "# Get login of user in the terminal\n",
    "os.getlogin()"
   ]
  },
  {
   "cell_type": "markdown",
   "metadata": {},
   "source": [
    "## Spawn Processes with `subprocess` module\n",
    "\n",
    "For running applications outside the Python script (e.g Bash scripts, Shell commands, etc). `subprocess` module spawns a new process to run commands within it and collect the output from within Python\n",
    "\n",
    "Will usually use `subprocess.run` which returns `CompletedProcess` instance once completed.\n",
    "\n",
    "Some parameters:\n",
    "* `capture_output`: save the output of the command in a variable\n",
    "* `universal_newlines`: create newlines for the output given the system\n",
    "* `check`: automatically checks for an error in the command and returns a CalledProcessError"
   ]
  },
  {
   "cell_type": "code",
   "execution_count": 6,
   "metadata": {},
   "outputs": [
    {
     "name": "stdout",
     "output_type": "stream",
     "text": [
      "total 0\n",
      "-rwxrwx---+ 1 Martin Ho None 0 May 30 21:16 ch3 notes.ipynb\n",
      "\n"
     ]
    },
    {
     "ename": "CalledProcessError",
     "evalue": "Command '['ls', '/doesnotexist']' returned non-zero exit status 2.",
     "output_type": "error",
     "traceback": [
      "\u001b[1;31m---------------------------------------------------------------------------\u001b[0m",
      "\u001b[1;31mCalledProcessError\u001b[0m                        Traceback (most recent call last)",
      "\u001b[1;32m<ipython-input-6-15ede2dc3139>\u001b[0m in \u001b[0;36m<module>\u001b[1;34m\u001b[0m\n\u001b[0;32m      5\u001b[0m \u001b[1;33m\u001b[0m\u001b[0m\n\u001b[0;32m      6\u001b[0m \u001b[1;31m# Checking current directory for nonexistant file\u001b[0m\u001b[1;33m\u001b[0m\u001b[1;33m\u001b[0m\u001b[1;33m\u001b[0m\u001b[0m\n\u001b[1;32m----> 7\u001b[1;33m \u001b[0mcp\u001b[0m \u001b[1;33m=\u001b[0m \u001b[0msubprocess\u001b[0m\u001b[1;33m.\u001b[0m\u001b[0mrun\u001b[0m\u001b[1;33m(\u001b[0m\u001b[1;33m[\u001b[0m\u001b[1;34m'ls'\u001b[0m\u001b[1;33m,\u001b[0m \u001b[1;34m'/doesnotexist'\u001b[0m\u001b[1;33m]\u001b[0m\u001b[1;33m,\u001b[0m \u001b[0mcapture_output\u001b[0m\u001b[1;33m=\u001b[0m\u001b[1;32mTrue\u001b[0m\u001b[1;33m,\u001b[0m \u001b[0muniversal_newlines\u001b[0m\u001b[1;33m=\u001b[0m\u001b[1;32mTrue\u001b[0m\u001b[1;33m,\u001b[0m \u001b[0mcheck\u001b[0m\u001b[1;33m=\u001b[0m\u001b[1;32mTrue\u001b[0m\u001b[1;33m)\u001b[0m\u001b[1;33m\u001b[0m\u001b[1;33m\u001b[0m\u001b[0m\n\u001b[0m\u001b[0;32m      8\u001b[0m \u001b[0mprint\u001b[0m\u001b[1;33m(\u001b[0m\u001b[0mcp\u001b[0m\u001b[1;33m.\u001b[0m\u001b[0mstderr\u001b[0m\u001b[1;33m)\u001b[0m\u001b[1;33m\u001b[0m\u001b[1;33m\u001b[0m\u001b[0m\n",
      "\u001b[1;32mc:\\Users\\Martin Ho\\.julia\\conda\\3\\lib\\subprocess.py\u001b[0m in \u001b[0;36mrun\u001b[1;34m(input, capture_output, timeout, check, *popenargs, **kwargs)\u001b[0m\n\u001b[0;32m    510\u001b[0m         \u001b[0mretcode\u001b[0m \u001b[1;33m=\u001b[0m \u001b[0mprocess\u001b[0m\u001b[1;33m.\u001b[0m\u001b[0mpoll\u001b[0m\u001b[1;33m(\u001b[0m\u001b[1;33m)\u001b[0m\u001b[1;33m\u001b[0m\u001b[1;33m\u001b[0m\u001b[0m\n\u001b[0;32m    511\u001b[0m         \u001b[1;32mif\u001b[0m \u001b[0mcheck\u001b[0m \u001b[1;32mand\u001b[0m \u001b[0mretcode\u001b[0m\u001b[1;33m:\u001b[0m\u001b[1;33m\u001b[0m\u001b[1;33m\u001b[0m\u001b[0m\n\u001b[1;32m--> 512\u001b[1;33m             raise CalledProcessError(retcode, process.args,\n\u001b[0m\u001b[0;32m    513\u001b[0m                                      output=stdout, stderr=stderr)\n\u001b[0;32m    514\u001b[0m     \u001b[1;32mreturn\u001b[0m \u001b[0mCompletedProcess\u001b[0m\u001b[1;33m(\u001b[0m\u001b[0mprocess\u001b[0m\u001b[1;33m.\u001b[0m\u001b[0margs\u001b[0m\u001b[1;33m,\u001b[0m \u001b[0mretcode\u001b[0m\u001b[1;33m,\u001b[0m \u001b[0mstdout\u001b[0m\u001b[1;33m,\u001b[0m \u001b[0mstderr\u001b[0m\u001b[1;33m)\u001b[0m\u001b[1;33m\u001b[0m\u001b[1;33m\u001b[0m\u001b[0m\n",
      "\u001b[1;31mCalledProcessError\u001b[0m: Command '['ls', '/doesnotexist']' returned non-zero exit status 2."
     ]
    }
   ],
   "source": [
    "import subprocess\n",
    "# Checking current directory\n",
    "cp = subprocess.run(['ls', '-l'], capture_output=True, universal_newlines=True)\n",
    "print(cp.stdout)\n",
    "\n",
    "# Checking current directory for nonexistant file\n",
    "cp = subprocess.run(['ls', '/doesnotexist'], capture_output=True, universal_newlines=True, check=True)"
   ]
  },
  {
   "cell_type": "markdown",
   "metadata": {},
   "source": [
    "# Creating Command-Line Tools\n",
    "\n",
    "Invoke a Python script on the command line is to invoke using Python. Any statement at the top level (not nested in code blocks) run whenever the script is invoked or imported. Functions at the top level will run when the code is loaded. __Functions will run when invoked on the command line and when imported__.\n",
    "\n",
    "However, code will run when you import modules, no control over when the content is invoked. Convention for modules running on the command line is to end with a blcok testing for the `main` name, making sure it is only invoked when on the command line and not during import"
   ]
  },
  {
   "cell_type": "code",
   "execution_count": null,
   "metadata": {},
   "outputs": [],
   "source": [
    "def say_it():\n",
    "    print(\"Greetings human:\")\n",
    "\n",
    "if __name__ == \"__main__\":\n",
    "    say_it()"
   ]
  },
  {
   "cell_type": "markdown",
   "metadata": {},
   "source": [
    "Introduce command-line arguments to configure how the function runs. They represent the user interface for people using tools.\n",
    "\n",
    "## Using `sys.argv`\n",
    "\n",
    "Introduce a slit of arguments passed to a Python script at runtime. First argument is the anem of the script and the rest are any remaining command-line arguments, represented as strings"
   ]
  },
  {
   "cell_type": "code",
   "execution_count": 8,
   "metadata": {},
   "outputs": [
    {
     "name": "stdout",
     "output_type": "stream",
     "text": [
      "The first argument is: 'args.py'\n",
      "The second argument is: '--a-flag'\n",
      "The third argument is: 'some-value'\n",
      "The fourth argument is: '13'\n"
     ]
    }
   ],
   "source": [
    "!python args.py --a-flag some-value 13"
   ]
  },
  {
   "cell_type": "code",
   "execution_count": null,
   "metadata": {},
   "outputs": [],
   "source": [
    "# Example of argument parser\n",
    "import sys\n",
    "\n",
    "def say_it(greeting, target):\n",
    "    message = f\"{greeting} {target}\"\n",
    "    print(message)\n",
    "\n",
    "if __name__ == \"__main__\":\n",
    "    greeting = \"Hello\"\n",
    "    target = \"Joe\"\n",
    "    \n",
    "    if \"--help\" in sys.argv:\n",
    "        help_message = f\"Usage: {sys.argv[0]} --name <NAME> -- greeting <GREETING>\"\n",
    "        print(help_message)\n",
    "        sys.exit()\n",
    "    \n",
    "    if '--name' in sys.argv:\n",
    "        # get the content after the name flag\n",
    "        name_index = sys.argv.index(\"--name\") + 1\n",
    "        if name_index < len(sys.argv):\n",
    "            name = sys.argv[name_index]\n",
    "    \n",
    "    if '--greeting' in sys.argv:\n",
    "        # get the content after the name flag\n",
    "        greeting_index = sys.argv.index(\"--greeting\") + 1\n",
    "        if greeting_index < len(sys.argv):\n",
    "            greeting = sys.argv[greeting_index]\n",
    "            \n",
    "    say_it(name, greeting)"
   ]
  },
  {
   "cell_type": "code",
   "execution_count": 9,
   "metadata": {},
   "outputs": [
    {
     "name": "stdout",
     "output_type": "stream",
     "text": [
      "Martin Howdy!\n"
     ]
    }
   ],
   "source": [
    "!python simple_greeting.py --name Martin --greeting Howdy!"
   ]
  },
  {
   "cell_type": "markdown",
   "metadata": {},
   "source": [
    "__Limitations to above code__\n",
    "\n",
    "* No indication if user misspells\n",
    "* No indication if use commands that are not supported \n",
    "* Miscapitalized flags are ignored\n",
    "\n",
    "Try not to use `argv` parsing approach for production code. Use other packages that are designed for the creation of command-line tools. Help to design the user interface for the module.\n",
    "\n",
    "1. `argparse`\n",
    "2. `click`\n",
    "3. `python-fire`"
   ]
  },
  {
   "cell_type": "markdown",
   "metadata": {},
   "source": [
    "## Using `argparse`\n",
    "\n",
    "Design command-line user interface in detail, defining comamnds and flags along with help messages. Creates parser objects that you attach commands and flags. The parser then parses the arguments and you use the results to call the code\n",
    "\n",
    "If the name begins with a dash, it is treated as an optional flag, else it is a position-dependent command"
   ]
  },
  {
   "cell_type": "code",
   "execution_count": null,
   "metadata": {},
   "outputs": [],
   "source": [
    "import argparse\n",
    "\n",
    "if __name__ == \"__main__\":\n",
    "    parser = argparse.ArgumentParser(description=\"Echo your input\")\n",
    "    parser.add_argument(\n",
    "\t\t\"message\",\n",
    "\t\thelp='Message to echo'\n",
    "\t)\n",
    "    parser.add_argument(\n",
    "\t\t\"--twice\",\n",
    "\t\t'-t',\n",
    "\t\thelp='Do it twice',\n",
    "\t\taction='store_true' # stores the argument as a boolean value\n",
    "\t)\n",
    "    \n",
    "    args = parser.parse_args()\n",
    "    print(args.message)\n",
    "    if args.twice:\n",
    "        print(args.message)"
   ]
  },
  {
   "cell_type": "code",
   "execution_count": 10,
   "metadata": {},
   "outputs": [
    {
     "name": "stdout",
     "output_type": "stream",
     "text": [
      "Hello nice to meet you\n",
      "Hello nice to meet you\n"
     ]
    }
   ],
   "source": [
    "!python simple_parse.py \"Hello nice to meet you\" -t"
   ]
  },
  {
   "cell_type": "code",
   "execution_count": 11,
   "metadata": {},
   "outputs": [
    {
     "name": "stdout",
     "output_type": "stream",
     "text": [
      "usage: simple_parse.py [-h] [--twice] message\n",
      "\n",
      "Echo your input\n",
      "\n",
      "positional arguments:\n",
      "  message      Message to echo\n",
      "\n",
      "optional arguments:\n",
      "  -h, --help   show this help message and exit\n",
      "  --twice, -t  Do it twice\n"
     ]
    }
   ],
   "source": [
    "!python simple_parse.py --help"
   ]
  },
  {
   "cell_type": "code",
   "execution_count": null,
   "metadata": {},
   "outputs": [],
   "source": [
    "# pg 138"
   ]
  }
 ],
 "metadata": {
  "interpreter": {
   "hash": "2115878dd1ef391a02cbe6f36d5381fa4da0f9ab2909cc6bc4d8b996bb555e97"
  },
  "kernelspec": {
   "display_name": "Python 3.8.5 ('base')",
   "language": "python",
   "name": "python3"
  },
  "language_info": {
   "codemirror_mode": {
    "name": "ipython",
    "version": 3
   },
   "file_extension": ".py",
   "mimetype": "text/x-python",
   "name": "python",
   "nbconvert_exporter": "python",
   "pygments_lexer": "ipython3",
   "version": "3.8.5"
  },
  "orig_nbformat": 4
 },
 "nbformat": 4,
 "nbformat_minor": 2
}
